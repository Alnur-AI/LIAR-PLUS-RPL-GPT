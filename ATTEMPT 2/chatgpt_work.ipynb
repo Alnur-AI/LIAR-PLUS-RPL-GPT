{
 "cells": [
  {
   "metadata": {},
   "cell_type": "markdown",
   "source": "# Combine JSON files to raw table",
   "id": "d71fafff7b94d584"
  },
  {
   "metadata": {
    "ExecuteTime": {
     "end_time": "2024-12-27T09:01:53.015659Z",
     "start_time": "2024-12-27T09:01:19.624191Z"
    }
   },
   "cell_type": "code",
   "source": [
    "import os\n",
    "import json\n",
    "import csv\n",
    "from tqdm import tqdm\n",
    "\n",
    "# Загрузка JSON-файла\n",
    "folder = 'val'\n",
    "output_file = f\"{folder}3.csv\"\n",
    "\n",
    "columns = [\n",
    "    \"File Name\", \"Rhetorical Devices and Figures of Speech\", \"Manipulation of Facts and Information\",\n",
    "    \"Emotional Appeals\", \"Logical Argumentation and Reasoning\", \"Manipulative Techniques\",\n",
    "    \"Fact-Based Arguments\", \"Criticism and Devaluation\", \"Audience Engagement Techniques\",\n",
    "    \"Emotional Manipulation\", \"Simplification and Misrepresentation\", \"Misdirection and Distraction\",\n",
    "    \"Cherry-Picking and Selectivity\", \"Social Influence and Group Dynamics\", \"Deceptive Framing\",\n",
    "    \"Polarity\", \"Formality\", \"Emotional Tone\", \"Urgency and Focus\", \"Narrative Style\",\n",
    "    \"Inspirational and Awe\", \"Euphemism and Directness\", \"Thematic Tones\", \"Literary Aesthetic\",\n",
    "    \"Relevance Fallacies\", \"Ambiguity and Vagueness\", \"Causal Fallacies\", \"Formal Logical Errors\",\n",
    "    \"False Comparisons\", \"Fallacies of Overgeneralization\", \"Contradictory Arguments\",\n",
    "    \"Fallacies of Unfounded Assertions\", \"Dichotomies and Binary Thinking\", \"Contradictions\"\n",
    "]\n",
    "\n",
    "def parse_json_to_csv(input_folder, output_file, columns):\n",
    "    all_data = []\n",
    "\n",
    "    # Получаем список файлов в папке\n",
    "    json_files = [f for f in os.listdir(input_folder) if f.endswith('.json')]\n",
    "\n",
    "    # Используем tqdm для прогресс-бара\n",
    "    for json_file in tqdm(json_files, desc=\"Processing files\"):\n",
    "        input_path = os.path.join(input_folder, json_file)\n",
    "        file_name = os.path.splitext(json_file)[0]  # Убираем расширение .json\n",
    "        \n",
    "        with open(input_path, 'r', encoding='utf-8') as f:\n",
    "            data = json.load(f)\n",
    "        \n",
    "        # Создаем структуру данных для записи\n",
    "        parsed_data = {col: \"\" for col in columns}\n",
    "        parsed_data[\"File Name\"] = file_name\n",
    "\n",
    "        # Обрабатываем данные\n",
    "        for key, values in data.items():\n",
    "            if isinstance(values, list):  # Если это список, перебираем его\n",
    "                for item in values:\n",
    "                    if isinstance(item, dict):\n",
    "                        classification = item.get(\"Classification\", \"\")\n",
    "                        details = item.get(\"Details\", [])\n",
    "                        \n",
    "                        # Если classification совпадает с названием столбца\n",
    "                        if classification in columns:\n",
    "                            types = [detail.get(\"Type\", \"\") for detail in details]\n",
    "                            parsed_data[classification] = \", \".join(types)\n",
    "            \n",
    "            # Обработка Polarity\n",
    "            if key == \"Polarity\" and isinstance(values, list):\n",
    "                types = [entry.get(\"Type\", \"\") for entry in values if \"Type\" in entry]\n",
    "                parsed_data[\"Polarity\"] = \", \".join(types)\n",
    "            \n",
    "            # Обработка Contradictions\n",
    "            if key == \"Contradictions\" and isinstance(values, list):\n",
    "                types = [entry.get(\"Type\", \"\") for entry in values if \"Type\" in entry]\n",
    "                parsed_data[\"Contradictions\"] = \", \".join(types)\n",
    "        \n",
    "        all_data.append(parsed_data)\n",
    "\n",
    "    # Записываем данные в CSV\n",
    "    with open(output_file, 'w', newline='', encoding='utf-8') as csvfile:\n",
    "        writer = csv.DictWriter(csvfile, fieldnames=columns)\n",
    "        writer.writeheader()\n",
    "        writer.writerows(all_data)\n",
    "\n",
    "# Запуск функции\n",
    "parse_json_to_csv(folder, output_file, columns)\n"
   ],
   "id": "a345bce1854828d6",
   "outputs": [
    {
     "name": "stderr",
     "output_type": "stream",
     "text": [
      "Processing files: 100%|██████████| 1284/1284 [00:32<00:00, 38.93it/s]\n"
     ]
    }
   ],
   "execution_count": 9
  },
  {
   "metadata": {},
   "cell_type": "code",
   "outputs": [],
   "execution_count": null,
   "source": "",
   "id": "8f3e3b19acc56660"
  }
 ],
 "metadata": {
  "kernelspec": {
   "display_name": "Python 3",
   "language": "python",
   "name": "python3"
  },
  "language_info": {
   "codemirror_mode": {
    "name": "ipython",
    "version": 2
   },
   "file_extension": ".py",
   "mimetype": "text/x-python",
   "name": "python",
   "nbconvert_exporter": "python",
   "pygments_lexer": "ipython2",
   "version": "2.7.6"
  }
 },
 "nbformat": 4,
 "nbformat_minor": 5
}
